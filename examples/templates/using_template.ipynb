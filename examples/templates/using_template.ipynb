{
 "cells": [
  {
   "attachments": {},
   "cell_type": "markdown",
   "metadata": {},
   "source": [
    "# Using Templates"
   ]
  },
  {
   "attachments": {},
   "cell_type": "markdown",
   "metadata": {},
   "source": [
    "Using [Jinja2](https://jinja.palletsprojects.com/en/3.0.x/) as template system. "
   ]
  },
  {
   "cell_type": "code",
   "execution_count": 1,
   "metadata": {},
   "outputs": [
    {
     "data": {
      "text/plain": [
       "'Hi John, how are you?'"
      ]
     },
     "execution_count": 1,
     "metadata": {},
     "output_type": "execute_result"
    }
   ],
   "source": [
    "import jinja2 as J2\n",
    "environment = J2.Environment()\n",
    "template = environment.from_string(\"Hi {{ name }}, how are you?\")\n",
    "template.render(name=\"John\")"
   ]
  },
  {
   "attachments": {},
   "cell_type": "markdown",
   "metadata": {},
   "source": [
    "A template system lets you replace a varible in a text. In fact, you can replace as many as variables as you want in all kinds of text. In all cases, the procedure is the same:\n",
    "\n",
    "1. Create a template file. We will mark the file as template by using the extension `.j2`.\n",
    "1. Get a list of values that you will use as input.\n",
    "1. Write a script that will tie everything together.\n",
    "\n",
    "For example, imagine you have a list of `hostname` and `IP` addresses, and want to create a configuration file for each host. The list of hosts is (see `hosts.txt`):\n",
    "\n",
    "```\n",
    "atta, 192.168.56.10\n",
    "flik, 192.168.56.11\n",
    "hopper, 192.168.56.12\n",
    "```\n",
    "\n",
    "And for each host create a configuration file for the Icinga monitoring system\n",
    "\n",
    "```\n",
    "/**\n",
    "* Simple Icinga host configuration file\n",
    "*/\n",
    "\n",
    "object Host \"atta\" {\n",
    "    check_command = \"hostalive\"\n",
    "    address = \" 192.168.56.10\"\n",
    "}\n",
    "```"
   ]
  },
  {
   "attachments": {},
   "cell_type": "markdown",
   "metadata": {},
   "source": [
    "## Template"
   ]
  },
  {
   "attachments": {},
   "cell_type": "markdown",
   "metadata": {},
   "source": [
    "To use Jinja2, you create a template file, like the one in the `temps` folder:\n",
    "\n",
    "```\n",
    "/**\n",
    "* Simple Icinga host configuration file\n",
    "*/\n",
    "\n",
    "object Host \"{{ hostname }}\" {\n",
    "    check_command = \"hostalive\"\n",
    "    address = \"{{ ip_addr }}\"\n",
    "}\n",
    "```\n",
    "\n",
    "Where the place holders are marked with `{{ }}`, like `{{ hostname }}`"
   ]
  },
  {
   "attachments": {},
   "cell_type": "markdown",
   "metadata": {},
   "source": [
    "## Script"
   ]
  },
  {
   "attachments": {},
   "cell_type": "markdown",
   "metadata": {},
   "source": [
    "After creating a template, the next is to create a script that will read a input file, like `hosts.txt`, and apply the templating system"
   ]
  },
  {
   "cell_type": "code",
   "execution_count": 2,
   "metadata": {},
   "outputs": [],
   "source": [
    "def mk_hosts(hosts_file):\n",
    "    \"\"\"\n",
    "    Create Icinga configuration files from a list of hosts and IP addresses.\n",
    "    \"\"\"\n",
    "    environment = J2.Environment(loader=J2.FileSystemLoader(\"temps/\"))\n",
    "    template = environment.get_template(\"hostconfig.j2\")\n",
    "\n",
    "    # Read file with the hosts list\n",
    "    with open(hosts_file, \"r\") as fin:\n",
    "        text = fin.readlines()\n",
    "    hosts = [line.strip().split(\",\") for line in text]\n",
    "\n",
    "    for host in hosts:\n",
    "\n",
    "        hostname = host[0]\n",
    "        ip_addr = host[1]\n",
    "        content = template.render(hostname=hostname, ip_addr=ip_addr)\n",
    "\n",
    "        with open(f\"{hostname}.cfg\", \"w\") as fout:\n",
    "            fout.write(content)\n",
    "            print(f\"Wrote {hostname}\")\n"
   ]
  },
  {
   "cell_type": "code",
   "execution_count": 3,
   "metadata": {},
   "outputs": [
    {
     "name": "stdout",
     "output_type": "stream",
     "text": [
      "Wrote atta\n",
      "Wrote flik\n",
      "Wrote hopper\n"
     ]
    }
   ],
   "source": [
    "mk_hosts('in/hosts.txt')"
   ]
  },
  {
   "cell_type": "code",
   "execution_count": null,
   "metadata": {},
   "outputs": [],
   "source": []
  }
 ],
 "metadata": {
  "kernelspec": {
   "display_name": "venv",
   "language": "python",
   "name": "python3"
  },
  "language_info": {
   "codemirror_mode": {
    "name": "ipython",
    "version": 3
   },
   "file_extension": ".py",
   "mimetype": "text/x-python",
   "name": "python",
   "nbconvert_exporter": "python",
   "pygments_lexer": "ipython3",
   "version": "3.10.10"
  },
  "orig_nbformat": 4
 },
 "nbformat": 4,
 "nbformat_minor": 2
}
