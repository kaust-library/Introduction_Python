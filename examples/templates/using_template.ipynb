{
 "cells": [
  {
   "attachments": {},
   "cell_type": "markdown",
   "metadata": {},
   "source": [
    "# Using Templates"
   ]
  },
  {
   "attachments": {},
   "cell_type": "markdown",
   "metadata": {},
   "source": [
    "Using [Jinja2](https://jinja.palletsprojects.com/en/3.0.x/) as template system. "
   ]
  },
  {
   "cell_type": "code",
   "execution_count": 2,
   "metadata": {},
   "outputs": [
    {
     "data": {
      "text/plain": [
       "'Hi John, how are you?'"
      ]
     },
     "execution_count": 2,
     "metadata": {},
     "output_type": "execute_result"
    }
   ],
   "source": [
    "import jinja2 as J2\n",
    "environment = J2.Environment()\n",
    "template = environment.from_string(\"Hi {{ name }}, how are you?\")\n",
    "template.render(name=\"John\")"
   ]
  },
  {
   "attachments": {},
   "cell_type": "markdown",
   "metadata": {},
   "source": [
    "A template system lets you replace a varible in a text. In fact, you can replace as many as variables as you want in all kinds of text. In all cases, the procedure is the same:\n",
    "\n",
    "1. Create a template file. We will mark the file as template by using the extension `.j2`.\n",
    "1. Get a list of values that you will use as input.\n",
    "1. Write a script that will tie everything together.\n",
    "\n",
    "For example, imagine you have a list of `hostname` and `IP` addresses, and want to create a configuration file for each host. The list of hosts is (see `hosts.txt`):\n",
    "\n",
    "```\n",
    "atta, 192.168.56.10\n",
    "flik, 192.168.56.11\n",
    "hopper, 192.168.56.12\n",
    "```\n",
    "\n",
    "And for each host create a configuration file for the Icinga monitoring system"
   ]
  },
  {
   "cell_type": "markdown",
   "metadata": {},
   "source": []
  },
  {
   "cell_type": "markdown",
   "metadata": {},
   "source": []
  }
 ],
 "metadata": {
  "kernelspec": {
   "display_name": "venv",
   "language": "python",
   "name": "python3"
  },
  "language_info": {
   "codemirror_mode": {
    "name": "ipython",
    "version": 3
   },
   "file_extension": ".py",
   "mimetype": "text/x-python",
   "name": "python",
   "nbconvert_exporter": "python",
   "pygments_lexer": "ipython3",
   "version": "3.10.9"
  },
  "orig_nbformat": 4
 },
 "nbformat": 4,
 "nbformat_minor": 2
}
