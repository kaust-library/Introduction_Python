{
 "cells": [
  {
   "cell_type": "markdown",
   "id": "b0017751-8fa9-4ad3-b95a-7fae78e582e9",
   "metadata": {},
   "source": [
    "# Working with Config Files"
   ]
  },
  {
   "cell_type": "markdown",
   "id": "750ff9cf-4382-4792-ab0d-8f8851ef97ea",
   "metadata": {},
   "source": [
    "Python provides a convinient way to work with configuration files similar to Windows INI files. First you create a config file, and in general with the extension `.cfg`, like `my_config.cfg`. For this example we have a file called `my_favorites.cfg` divide in sections."
   ]
  },
  {
   "cell_type": "markdown",
   "id": "d5737dc2-b41c-4e30-8519-576f67a15ef3",
   "metadata": {},
   "source": [
    "```\n",
    "[FOOD]\n",
    "favorite = pizza\n",
    "weekly = yes\n",
    "how_often_wk = 1\n",
    "# The price in SAR.\n",
    "price = 45.5\n",
    "```"
   ]
  },
  {
   "cell_type": "markdown",
   "id": "53311387-4259-4bb3-a79b-58e114e8d57a",
   "metadata": {},
   "source": [
    "## Reading Config File"
   ]
  },
  {
   "cell_type": "markdown",
   "id": "549b3095-eb71-42b4-9c9f-8c9d2c6fef38",
   "metadata": {},
   "source": [
    "To read a config file, the first thing to do is to import the `configparser` module"
   ]
  },
  {
   "cell_type": "code",
   "execution_count": 1,
   "id": "c6c22dc3-cf31-4a1b-ab7d-a77211d7a2d3",
   "metadata": {},
   "outputs": [],
   "source": [
    "import configparser as CP"
   ]
  },
  {
   "cell_type": "markdown",
   "id": "3bc638ef-280d-4118-b7af-7f4f8f12a815",
   "metadata": {},
   "source": [
    "Next we read the file, and set the _interpolation_ to use. I recommend to always use the _ExtendedInterpolation_: this allows you to access values in other sections and provide a nicer way to do it."
   ]
  },
  {
   "cell_type": "code",
   "execution_count": 2,
   "id": "5c1c1356-9978-4666-9091-c00cdf5345c9",
   "metadata": {},
   "outputs": [
    {
     "data": {
      "text/plain": [
       "['my_favorites.cfg']"
      ]
     },
     "execution_count": 2,
     "metadata": {},
     "output_type": "execute_result"
    }
   ],
   "source": [
    "my_config = CP.ConfigParser(interpolation=CP.ExtendedInterpolation())\n",
    "my_config.read(\"my_favorites.cfg\")"
   ]
  },
  {
   "cell_type": "markdown",
   "id": "70495548-bdd7-4954-8b7f-1e24250fda54",
   "metadata": {},
   "source": [
    "## Sections"
   ]
  },
  {
   "cell_type": "markdown",
   "id": "6e157324-861f-435b-8e4c-1501f9b4d972",
   "metadata": {},
   "source": [
    "The config file can be divided in _sections_ so we can group the values in a logical way. You can check if a section of the document exists before trying to read it, and causing the program to crash."
   ]
  },
  {
   "cell_type": "code",
   "execution_count": 3,
   "id": "85f086d2-c216-45de-a676-c6b673f9d40f",
   "metadata": {},
   "outputs": [
    {
     "name": "stdout",
     "output_type": "stream",
     "text": [
      "No section GAME defined\n",
      "We only have FOOD, DRINK\n"
     ]
    }
   ],
   "source": [
    "if my_config.has_section(\"GAME\"):\n",
    "    my_fav_game = my_config[\"GAME\"][\"favorite\"]\n",
    "    print(f\"My favorite game is '{my_fav_game}'.\")\n",
    "else:\n",
    "    print(\"No section GAME defined\")\n",
    "    # You can get a list of all sections available\n",
    "    print(f\"We only have {', '.join(ss for ss in my_config.sections())}\")\n",
    "    my_fav_game = \"\""
   ]
  },
  {
   "cell_type": "markdown",
   "id": "82399f9e-7e7e-42fc-98b2-2dc2428d4083",
   "metadata": {},
   "source": [
    "## Values"
   ]
  },
  {
   "cell_type": "markdown",
   "id": "f0d11b5e-f61b-4211-978f-0a094d9a425c",
   "metadata": {},
   "source": [
    "Inside the section, we have the actual values that we are going to use. Note that Python doesn't try to gess the datatypes of the values, and stored them internally as _string_. But since it's very common to read strings, integers, booleans, etc., values, Python offers some convinent functions to return the correct datatype."
   ]
  },
  {
   "cell_type": "markdown",
   "id": "86b8755b-6282-4404-bb70-d05e8b878a26",
   "metadata": {},
   "source": [
    "We can define a function that read all values and returns a dictionary. If we don't care about the datatypes, the function can be compact"
   ]
  },
  {
   "cell_type": "code",
   "execution_count": 4,
   "id": "9aba88af-b61d-481d-8574-99c1481f2f63",
   "metadata": {},
   "outputs": [],
   "source": [
    "def read_config(config):\n",
    "    \"\"\"\n",
    "    Read a section of a ConfigParse and returns dictionary.\n",
    "    Note: all values will be 'string', and you will have to \n",
    "    cast to the correct type later syourself.\n",
    "    \"\"\"\n",
    "    my_dict = {}\n",
    "\n",
    "    for kk, vv in config.items():\n",
    "        my_dict.update({kk: vv})\n",
    "    return my_dict"
   ]
  },
  {
   "cell_type": "code",
   "execution_count": 5,
   "id": "47e0d67b-76f8-4119-b84b-0474f8dcfe59",
   "metadata": {},
   "outputs": [],
   "source": [
    "my_food = read_config(my_config[\"FOOD\"])\n",
    "my_drinks = read_config(my_config[\"DRINK\"])"
   ]
  },
  {
   "cell_type": "code",
   "execution_count": 7,
   "id": "c0859186-413b-401b-9e24-711025d7e931",
   "metadata": {},
   "outputs": [
    {
     "name": "stdout",
     "output_type": "stream",
     "text": [
      "{'favorite': 'pizza', 'weekly': 'yes', 'how_often_wk': '1', 'price': '45.5'}\n"
     ]
    },
    {
     "data": {
      "text/plain": [
       "str"
      ]
     },
     "execution_count": 7,
     "metadata": {},
     "output_type": "execute_result"
    }
   ],
   "source": [
    "print(my_food)\n",
    "type(my_food['price'])"
   ]
  },
  {
   "cell_type": "markdown",
   "id": "90305062-89f7-49d3-8b94-39c6bc23ea6a",
   "metadata": {},
   "source": [
    "As you can see, the type of `price` is `str`, that is \"string.\" But most probably we will use a float value for computations, so we will need to convert first:"
   ]
  },
  {
   "cell_type": "code",
   "execution_count": 8,
   "id": "650f1730-e690-42c2-b333-212772ac30f7",
   "metadata": {},
   "outputs": [
    {
     "name": "stdout",
     "output_type": "stream",
     "text": [
      "The price of a meal is 58.7 SAR\n"
     ]
    }
   ],
   "source": [
    "# Convert to float:\n",
    "food_price = float(my_food[\"price\"])\n",
    "drink_price = float(my_drinks[\"price\"])\n",
    "\n",
    "print(f\"The price of a meal is {food_price + drink_price} SAR\")"
   ]
  },
  {
   "cell_type": "markdown",
   "id": "5713598b-d0fb-49fa-bfd3-30dcb5643d0f",
   "metadata": {},
   "source": [
    "We can create a function to read the values of the section with the correct datatypes, but then it will be less generic."
   ]
  },
  {
   "cell_type": "code",
   "execution_count": 23,
   "id": "a68e68ef-f077-42a4-bc63-9e79e7423e5a",
   "metadata": {},
   "outputs": [],
   "source": [
    "def read_food(config):\n",
    "    \"\"\"\n",
    "    Read the 'FOOD' section respecting the type of the variables.\n",
    "    \"\"\"\n",
    "\n",
    "    my_dict = {}\n",
    "\n",
    "    my_dict.update({\"food\": config.get(\"favorite\", \"lasgna\")})\n",
    "    my_dict.update({\"weekly\": config.getboolean(\"weekly\", True)})\n",
    "    my_dict.update({\"times\": config.getint(\"how_often_wk\", 5)})\n",
    "    my_dict.update({\"price\": config.getfloat(\"price\", 50.0)})\n",
    "    my_dict.update({\"healthy\": config.getboolean(\"healthy\", False)})\n",
    "\n",
    "    return my_dict"
   ]
  },
  {
   "cell_type": "markdown",
   "id": "20d274e8-c10c-4cbe-b5b0-83ef58189cc1",
   "metadata": {},
   "source": [
    "> Notice that we added an interesting feature to our function: a _fallback_ value that will be used if it's missing from the config file."
   ]
  },
  {
   "cell_type": "markdown",
   "id": "42de0495-7da8-4e64-87f9-8598353018d3",
   "metadata": {},
   "source": [
    "So if we want to repeat the previous example, then we won't need to convert the value"
   ]
  },
  {
   "cell_type": "code",
   "execution_count": 24,
   "id": "fcb675e9-095b-4371-a0f0-70e6bd755ab5",
   "metadata": {},
   "outputs": [
    {
     "data": {
      "text/plain": [
       "float"
      ]
     },
     "execution_count": 24,
     "metadata": {},
     "output_type": "execute_result"
    }
   ],
   "source": [
    "# We read the values using the second function\n",
    "my_food = read_food(my_config[\"FOOD\"])\n",
    "# And no convertion this time\n",
    "type(my_food['price'])"
   ]
  },
  {
   "cell_type": "markdown",
   "id": "dc25516f-2ed6-4ba7-9605-24bc92278526",
   "metadata": {},
   "source": [
    "This can be especially handy for boolean values since the string \"False\" will be treated as \"true\" because it has a value instead of empty. Consider the case for the favorite food, the value for `healthy` (if it's good, can't be healthy!) is _false_, but Python thinks otherwise:"
   ]
  },
  {
   "cell_type": "code",
   "execution_count": 28,
   "id": "ea3cb868-a346-4642-b380-2e44729577b8",
   "metadata": {},
   "outputs": [
    {
     "name": "stdout",
     "output_type": "stream",
     "text": [
      "Never mind, just don't eat to much pizza.\n"
     ]
    }
   ],
   "source": [
    "if my_food['healthy']:\n",
    "    print(f\"You are luck that {my_food['favorite']} is also healthy.\")\n",
    "else:\n",
    "    print(f\"Never mind, just don't eat to much {my_food['food']}.\") "
   ]
  },
  {
   "cell_type": "code",
   "execution_count": null,
   "id": "8e14e40b-35c9-40f5-a400-171cc002b2f5",
   "metadata": {},
   "outputs": [],
   "source": []
  }
 ],
 "metadata": {
  "kernelspec": {
   "display_name": "Python 3 (ipykernel)",
   "language": "python",
   "name": "python3"
  },
  "language_info": {
   "codemirror_mode": {
    "name": "ipython",
    "version": 3
   },
   "file_extension": ".py",
   "mimetype": "text/x-python",
   "name": "python",
   "nbconvert_exporter": "python",
   "pygments_lexer": "ipython3",
   "version": "3.9.13"
  }
 },
 "nbformat": 4,
 "nbformat_minor": 5
}
