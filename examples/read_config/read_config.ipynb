{
 "cells": [
  {
   "attachments": {},
   "cell_type": "markdown",
   "metadata": {},
   "source": [
    "# Read Config File"
   ]
  },
  {
   "cell_type": "code",
   "execution_count": 1,
   "metadata": {},
   "outputs": [],
   "source": [
    "import configparser as CP\n",
    "import pathlib as PL\n",
    "import subprocess as SP"
   ]
  },
  {
   "cell_type": "code",
   "execution_count": 2,
   "metadata": {},
   "outputs": [
    {
     "data": {
      "text/plain": [
       "['read_config.cfg']"
      ]
     },
     "execution_count": 2,
     "metadata": {},
     "output_type": "execute_result"
    }
   ],
   "source": [
    "my_config = CP.ConfigParser(interpolation=CP.ExtendedInterpolation())\n",
    "my_config.read(\"read_config.cfg\")"
   ]
  },
  {
   "attachments": {},
   "cell_type": "markdown",
   "metadata": {},
   "source": [
    "## Sections"
   ]
  },
  {
   "attachments": {},
   "cell_type": "markdown",
   "metadata": {},
   "source": [
    "Reading the sections available on the config file."
   ]
  },
  {
   "cell_type": "code",
   "execution_count": 3,
   "metadata": {},
   "outputs": [
    {
     "data": {
      "text/plain": [
       "['PROJECT', 'BIN', 'OUT']"
      ]
     },
     "execution_count": 3,
     "metadata": {},
     "output_type": "execute_result"
    }
   ],
   "source": [
    "my_config.sections()"
   ]
  },
  {
   "attachments": {},
   "cell_type": "markdown",
   "metadata": {},
   "source": [
    "Checking if one specific section is available on the file:"
   ]
  },
  {
   "cell_type": "code",
   "execution_count": 4,
   "metadata": {},
   "outputs": [
    {
     "name": "stdout",
     "output_type": "stream",
     "text": [
      "There is a section name 'OUT'\n"
     ]
    }
   ],
   "source": [
    "section_name = \"OUT\"\n",
    "if my_config.has_section(section_name):\n",
    "    print(f\"There is a section name '{section_name}'\")\n",
    "else:\n",
    "    print(f\"Sorry, no section '{section_name}' in the file\")"
   ]
  },
  {
   "attachments": {},
   "cell_type": "markdown",
   "metadata": {},
   "source": [
    "## Values"
   ]
  },
  {
   "attachments": {},
   "cell_type": "markdown",
   "metadata": {},
   "source": [
    "There are two ways to read the values of a section: as function or as dictiornary:"
   ]
  },
  {
   "cell_type": "code",
   "execution_count": 5,
   "metadata": {},
   "outputs": [
    {
     "name": "stdout",
     "output_type": "stream",
     "text": [
      "root dir: 'cwd'\n",
      "root dir: 'cwd'\n"
     ]
    }
   ],
   "source": [
    "print(f\"root dir: '{my_config.get('DEFAULT', 'root_dir')}'\")\n",
    "print(f\"root dir: '{my_config['DEFAULT']['root_dir']}'\")"
   ]
  },
  {
   "attachments": {},
   "cell_type": "markdown",
   "metadata": {},
   "source": [
    "It's interesting to note that the values from the `DEFAULT` section are \"incorporated\" to the other sections too:"
   ]
  },
  {
   "cell_type": "code",
   "execution_count": 6,
   "metadata": {},
   "outputs": [
    {
     "name": "stdout",
     "output_type": "stream",
     "text": [
      "out_dir\n",
      "out_name\n",
      "format\n",
      "root_dir\n"
     ]
    }
   ],
   "source": [
    "for key in my_config['OUT']:\n",
    "    print(key)"
   ]
  },
  {
   "attachments": {},
   "cell_type": "markdown",
   "metadata": {},
   "source": [
    "We can use the value of the `root_dir` to set the directory with the scripts, and the directory for the output"
   ]
  },
  {
   "cell_type": "code",
   "execution_count": 7,
   "metadata": {},
   "outputs": [],
   "source": [
    "if my_config['DEFAULT'][\"root_dir\"] == \"cwd\":\n",
    "    root_dir =  PL.Path.cwd()\n",
    "else:\n",
    "    root_dir = PL.Path(my_config['DEFAULT'][\"root_dir\"])\n",
    "run_dir = root_dir.joinpath(my_config['BIN']['bin_dir'])\n",
    "out_dir = root_dir.joinpath(my_config['OUT']['out_dir'])"
   ]
  },
  {
   "attachments": {},
   "cell_type": "markdown",
   "metadata": {},
   "source": [
    "After setting the variable `out_dir`, we check if the directory actually exist, and if not, then we need to create one."
   ]
  },
  {
   "cell_type": "code",
   "execution_count": 8,
   "metadata": {},
   "outputs": [
    {
     "name": "stdout",
     "output_type": "stream",
     "text": [
      "Output directory doesn't exist. Creating one.\n"
     ]
    }
   ],
   "source": [
    "# print(f\"Output directory: '{out_dir}'\")\n",
    "try:\n",
    "    if not out_dir.exists():\n",
    "        print(f\"Output directory doesn't exist. Creating one.\")\n",
    "        out_dir.mkdir()\n",
    "except Exception as ee:\n",
    "    print(f\"Error '{ee}' while creating '{out_dir}'\")"
   ]
  },
  {
   "attachments": {},
   "cell_type": "markdown",
   "metadata": {},
   "source": [
    "## Running a Script"
   ]
  },
  {
   "attachments": {},
   "cell_type": "markdown",
   "metadata": {},
   "source": [
    "After defining the bin and output directories we run the script. To make the script generic, we are quoting `my_script` because in Windows there can be a space in the path, like `C:\\Program Files`, which crashes the script."
   ]
  },
  {
   "cell_type": "code",
   "execution_count": 9,
   "metadata": {},
   "outputs": [],
   "source": [
    "my_script = run_dir.joinpath(my_config['BIN']['exe_name'])\n",
    "run_cmd = f\"python \\\"{my_script}\\\"\""
   ]
  },
  {
   "cell_type": "code",
   "execution_count": 11,
   "metadata": {},
   "outputs": [
    {
     "name": "stdout",
     "output_type": "stream",
     "text": [
      "Result: 'Hello world\n",
      "'\n"
     ]
    }
   ],
   "source": [
    "result = SP.run(run_cmd, stdout=SP. PIPE, stderr=SP.STDOUT, text=True, shell=True)\n",
    "result.check_returncode()\n",
    "print(f\"Result: '{result.stdout}'\")"
   ]
  },
  {
   "attachments": {},
   "cell_type": "markdown",
   "metadata": {},
   "source": [
    "## Saving Output"
   ]
  },
  {
   "attachments": {},
   "cell_type": "markdown",
   "metadata": {},
   "source": [
    "Saving the output of the script"
   ]
  },
  {
   "cell_type": "code",
   "execution_count": null,
   "metadata": {},
   "outputs": [],
   "source": [
    "my_output = out_dir.joinpath(my_config['OUT']['out_name'])\n",
    "with open(my_output, 'w') as fout:\n",
    "    fout.writelines(result.stdout)"
   ]
  }
 ],
 "metadata": {
  "kernelspec": {
   "display_name": "venv",
   "language": "python",
   "name": "python3"
  },
  "language_info": {
   "codemirror_mode": {
    "name": "ipython",
    "version": 3
   },
   "file_extension": ".py",
   "mimetype": "text/x-python",
   "name": "python",
   "nbconvert_exporter": "python",
   "pygments_lexer": "ipython3",
   "version": "3.10.6"
  },
  "orig_nbformat": 4
 },
 "nbformat": 4,
 "nbformat_minor": 2
}
