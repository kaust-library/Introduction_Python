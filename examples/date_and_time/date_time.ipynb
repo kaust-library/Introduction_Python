{
 "cells": [
  {
   "attachments": {},
   "cell_type": "markdown",
   "metadata": {},
   "source": [
    "# Date and Time"
   ]
  },
  {
   "cell_type": "code",
   "execution_count": 1,
   "metadata": {},
   "outputs": [],
   "source": [
    "import datetime as DT"
   ]
  },
  {
   "attachments": {},
   "cell_type": "markdown",
   "metadata": {},
   "source": [
    "We can present a [date and time](https://docs.python.org/3.10/library/datetime.html)  in [several formats](https://docs.python.org/3.10/library/datetime.html#strftime-and-strptime-behavior), depending of who is reading it. If we are presenting to other people, can be in a more textual presentation; or if it's to be used creating a file name, then, the ISO format is a good way. The ISO format is \"YYYY-MM-DD\""
   ]
  },
  {
   "cell_type": "code",
   "execution_count": 2,
   "metadata": {},
   "outputs": [
    {
     "name": "stdout",
     "output_type": "stream",
     "text": [
      "Today is Thu, 02 March 2023\n",
      "Today is '2023-03-02' in ISO format\n"
     ]
    }
   ],
   "source": [
    "today = DT.date.today()\n",
    "print(f\"Today is {today.strftime('%a, %d %B %Y')}\")\n",
    "print(f\"Today is '{today}' in ISO format\")"
   ]
  },
  {
   "attachments": {},
   "cell_type": "markdown",
   "metadata": {},
   "source": [
    "We can work with time too"
   ]
  },
  {
   "cell_type": "code",
   "execution_count": 3,
   "metadata": {},
   "outputs": [
    {
     "name": "stdout",
     "output_type": "stream",
     "text": [
      "Now: 2023-03-02 22:31:26.896412\n",
      "The time now is 22:31:26\n"
     ]
    }
   ],
   "source": [
    "now = DT.datetime.now()\n",
    "print(f\"Now: {now}\")\n",
    "print(f\"The time now is {now.strftime('%H:%M:%S')}\")"
   ]
  },
  {
   "attachments": {},
   "cell_type": "markdown",
   "metadata": {},
   "source": [
    "To create a date, you can use the functions `date` directly or `fromisoformat`:"
   ]
  },
  {
   "cell_type": "code",
   "execution_count": 4,
   "metadata": {},
   "outputs": [
    {
     "name": "stdout",
     "output_type": "stream",
     "text": [
      "Moon landing was in Sun, 20 July 1969.\n"
     ]
    }
   ],
   "source": [
    "moon_landing = DT.date(1969, 7, 20)\n",
    "moon_landing_iso = DT.date.fromisoformat(\"1969-07-20\")\n",
    "print(f\"Moon landing was in {moon_landing.strftime('%a, %d %B %Y')}.\")"
   ]
  },
  {
   "attachments": {},
   "cell_type": "markdown",
   "metadata": {},
   "source": [
    "Next we print the how long ago was the moon landing, but divided in years and days. \n",
    "\n",
    "1. First we define what is a `year` in terms of an object `timedelta`. \n",
    "1. Next we calculate the `timedelta` between `today` and the Moon landing. \n",
    "1. Then we take just the integer part of difference. That is the `//` operator that returns the integer part of the division. \n",
    "1. Finally we present the difference in days."
   ]
  },
  {
   "cell_type": "code",
   "execution_count": 5,
   "metadata": {},
   "outputs": [
    {
     "name": "stdout",
     "output_type": "stream",
     "text": [
      "The Moon landing was 53 years, and 238 days ago.\n"
     ]
    }
   ],
   "source": [
    "year = DT.timedelta(days=365)\n",
    "ml_total_days = (today - moon_landing)\n",
    "ml_years = (today - moon_landing) // year\n",
    "ml_days = (ml_total_days - ml_years * year).days\n",
    "print(f\"The Moon landing was {ml_years} years, and {ml_days} days ago.\")"
   ]
  },
  {
   "cell_type": "code",
   "execution_count": null,
   "metadata": {},
   "outputs": [],
   "source": []
  }
 ],
 "metadata": {
  "kernelspec": {
   "display_name": "venv",
   "language": "python",
   "name": "python3"
  },
  "language_info": {
   "codemirror_mode": {
    "name": "ipython",
    "version": 3
   },
   "file_extension": ".py",
   "mimetype": "text/x-python",
   "name": "python",
   "nbconvert_exporter": "python",
   "pygments_lexer": "ipython3",
   "version": "3.10.10"
  },
  "orig_nbformat": 4
 },
 "nbformat": 4,
 "nbformat_minor": 2
}
